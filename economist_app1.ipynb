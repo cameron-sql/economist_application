{
 "cells": [
  {
   "cell_type": "code",
   "execution_count": null,
   "metadata": {},
   "outputs": [],
   "source": [
    "\"\"\"\n",
    "Economist Application Pt. 1 -- Cameron Ferwerda\n",
    "\n",
    "Your script should output two CSVs, called polls.csv and trends.csv (for the averages). The polls file should have columns for \n",
    "date, pollster, n (sample size), and each candidate (by name); the trends file just date and a column for each candidate. Values \n",
    "for polls and trends should be a number from 0 to 1. The polls file should have a row for each poll. The trends file should \n",
    "have a row for each day, starting with October 11th, 2023.\n",
    "\n",
    "Ideally it will have tests or some sort of error monitoring, and will detect or alert us in the event of a major error. \n",
    "(Writing errors to a log file is a sufficient alert for this assignment.) Your entire program should be executable from \n",
    "a single command, but it probably shouldn’t be written in a single monolithic script.\n",
    "\"\"\""
   ]
  },
  {
   "cell_type": "code",
   "execution_count": null,
   "metadata": {},
   "outputs": [],
   "source": [
    "import pandas as pd\n",
    "import numpy as np\n",
    "import matplotlib.pyplot as plt\n",
    "import seaborn as sns\n",
    "import warnings\n",
    "import matplotlib.patches\n",
    "import bambi as bmb\n",
    "import arviz as az\n",
    "import logging\n",
    "import datetime as dt\n",
    "from econ_app_utils import plot_predictions, export_trend"
   ]
  },
  {
   "cell_type": "code",
   "execution_count": null,
   "metadata": {},
   "outputs": [],
   "source": [
    "warnings.simplefilter(action='ignore', category=FutureWarning)\n",
    "warnings.simplefilter(action='ignore', category=UserWarning)\n",
    "\n",
    "pd.set_option('display.max_rows', 100)\n",
    "pd.set_option('display.max_columns', None)\n",
    "\n",
    "sunlight_cat = [\"#156B90\", \"#9a3e25\", \"#708259\",\"#bd8f22\" ,\"#842854\",\"#ba5f06\",\"#0f8c79\",\"#bd2d28\",\"#A0B700\",\"#f2da57\",\"#8e6c8a\",\"#7abfcc\", \"#f3a126\"]\n",
    "\n",
    "sns.color_palette(sunlight_cat)\n",
    "\n",
    "dict_rc = {\"grid.color\": \"#efecea\", 'axes.facecolor':\"#efecea\", 'figure.facecolor':\"#efecea\", 'axes.edgecolor': \"#635F5D\",\n",
    "\n",
    "               'axes.labelcolor': \"#635F5D\", 'text.color': '#635F5D','xtick.color': '#635F5D','ytick.color': '#635F5D'}; # \"grid.color\": \"#635F5D\",\n",
    "\n",
    "sns.set_theme(context='notebook', palette = sunlight_cat, rc = dict_rc)"
   ]
  },
  {
   "cell_type": "code",
   "execution_count": null,
   "metadata": {},
   "outputs": [],
   "source": [
    "df_list = pd.read_html('https://cdn-dev.economistdatateam.com/jobs/pds/code-test/index.html')\n",
    "df = df_list[0]"
   ]
  },
  {
   "cell_type": "code",
   "execution_count": null,
   "metadata": {},
   "outputs": [],
   "source": [
    "cols = df.columns"
   ]
  },
  {
   "cell_type": "code",
   "execution_count": null,
   "metadata": {},
   "outputs": [],
   "source": [
    "df_ind = df.iloc[:,: 3]\n",
    "df_cand = df.iloc[:,-(len(cols) - len(df_ind.columns)):]"
   ]
  },
  {
   "cell_type": "code",
   "execution_count": null,
   "metadata": {},
   "outputs": [],
   "source": [
    "df_cand = df_cand.replace('%','',regex=True).replace('**',np.nan)"
   ]
  },
  {
   "cell_type": "code",
   "execution_count": null,
   "metadata": {},
   "outputs": [],
   "source": [
    "try:\n",
    "    df_cand = df_cand.astype(float)\n",
    "    df_cand = df_cand / 100\n",
    "except:\n",
    "    logging.basicConfig(level=logging.INFO,filename='err_log.txt',filemode='a')\n",
    "    logging.error('Exception: ', exc_info=True)"
   ]
  },
  {
   "cell_type": "code",
   "execution_count": null,
   "metadata": {},
   "outputs": [],
   "source": [
    "df_merge = df_ind.merge(df_cand, right_index=True, left_index=True)"
   ]
  },
  {
   "cell_type": "code",
   "execution_count": null,
   "metadata": {},
   "outputs": [],
   "source": [
    "df_merge.Date = pd.to_datetime(df_merge.Date)"
   ]
  },
  {
   "cell_type": "code",
   "execution_count": null,
   "metadata": {},
   "outputs": [],
   "source": [
    "df_resample = df_merge.set_index('Date').resample('D').mean().reset_index()"
   ]
  },
  {
   "cell_type": "code",
   "execution_count": null,
   "metadata": {},
   "outputs": [],
   "source": [
    "df_resample = df_resample.reset_index().rename(columns={'index':'count_idx'})"
   ]
  },
  {
   "cell_type": "code",
   "execution_count": null,
   "metadata": {},
   "outputs": [],
   "source": [
    "df_resample.head()"
   ]
  },
  {
   "cell_type": "code",
   "execution_count": null,
   "metadata": {},
   "outputs": [],
   "source": [
    "df_melt_rs = pd.melt(df_resample, id_vars=['Date','count_idx'], value_vars=df_cand.columns, var_name='Candidate', value_name='Proportion')"
   ]
  },
  {
   "cell_type": "code",
   "execution_count": null,
   "metadata": {},
   "outputs": [],
   "source": [
    "levels_rs, categories_rs = pd.factorize(df_melt_rs['Candidate'])\n",
    "colors_rs = [sunlight_cat[i] for i in levels_rs]\n",
    "handles_rs = [matplotlib.patches.Patch(color=sunlight_cat[i], label=c) for i, c in enumerate(categories_rs)]"
   ]
  },
  {
   "cell_type": "code",
   "execution_count": null,
   "metadata": {},
   "outputs": [],
   "source": [
    "df_melt_rs.plot.scatter(x='Date',y='Proportion',c=colors_rs)\n",
    "plt.legend(handles=handles_rs,loc='upper right')"
   ]
  },
  {
   "cell_type": "code",
   "execution_count": null,
   "metadata": {},
   "outputs": [],
   "source": [
    "df_list = []\n",
    "\n",
    "for cand in df_cand.columns:\n",
    "    df_list.append(df_melt_rs.groupby('Candidate').get_group(cand).dropna())"
   ]
  },
  {
   "cell_type": "code",
   "execution_count": null,
   "metadata": {},
   "outputs": [],
   "source": [
    "num_knots = 11\n",
    "\n",
    "knot_list = []\n",
    "\n",
    "for i in range(len(df_list)):\n",
    "    knot_list.append(np.quantile(df_list[i]['count_idx'], np.linspace(0, 1, num_knots)))"
   ]
  },
  {
   "cell_type": "code",
   "execution_count": null,
   "metadata": {},
   "outputs": [],
   "source": [
    "iknots_list = []\n",
    "\n",
    "for i in range(len(knot_list)):\n",
    "    iknots_list.append(knot_list[i][1:-1])"
   ]
  },
  {
   "cell_type": "code",
   "execution_count": null,
   "metadata": {},
   "outputs": [],
   "source": [
    "knot_dict = {}\n",
    "\n",
    "for i in range(len(knot_list)):\n",
    "    knot_dict[\"iknots_{}\".format(i)] = knot_list[i][1:-1]"
   ]
  },
  {
   "cell_type": "code",
   "execution_count": null,
   "metadata": {},
   "outputs": [],
   "source": [
    "for i in range(len(knot_list)):\n",
    "    exec(f'iknots_{i} = knot_list[i][1:-1]')"
   ]
  },
  {
   "cell_type": "code",
   "execution_count": null,
   "metadata": {},
   "outputs": [],
   "source": [
    "\"\"\"\n",
    "y ~ N(mu, sigma)\n",
    "mu = a + sum(w*B)\n",
    "\"\"\"\n",
    "\n",
    "priors = {\n",
    "    \"Intercept\": bmb.Prior(\"Normal\", mu=0, sigma=1),\n",
    "    \"Weight\": bmb.Prior(\"Normal\", mu=0, sigma=1), \n",
    "    \"Sigma\": bmb.Prior(\"Exponential\", lam=1)\n",
    "}\n",
    "\n",
    "model_list = []\n",
    "\n",
    "for i in range(len(df_list)):\n",
    "    model_list.append(bmb.Model(f'Proportion ~ bs(count_idx, knots=iknots_{i}, intercept=True)', data=df_list[i], priors=priors, dropna=True))"
   ]
  },
  {
   "cell_type": "code",
   "execution_count": null,
   "metadata": {},
   "outputs": [],
   "source": [
    "fit_list = []\n",
    "\n",
    "for i in range(len(model_list)):\n",
    "    fit_list.append(model_list[i].fit(inference_method='mcmc',draws=1000,tune=1000,chains=2,idata_kwargs={\"log_likelihood\": True}))"
   ]
  },
  {
   "cell_type": "code",
   "execution_count": null,
   "metadata": {},
   "outputs": [],
   "source": [
    "def exp_csv(data, idata, model, dates):\n",
    "    \n",
    "    # Create a test dataset with observations spanning the whole range of year\n",
    "    new_data = pd.DataFrame({\"count_idx\": np.linspace(dates.count_idx.min(), dates.count_idx.max(), num=len(dates))})\n",
    "\n",
    "    # Predict\n",
    "    posterior_stacked = []\n",
    "    y_hat = []\n",
    "    y_hat_mean = []\n",
    "    hdi_data = []\n",
    "    for i in range(len(idata)):\n",
    "        model[i].predict(idata[i], data=new_data)\n",
    "        posterior_stacked.append(az.extract_dataset(idata[i]))\n",
    "        y_hat.append(posterior_stacked[i][\"Proportion_mean\"])\n",
    "        y_hat_mean.append(y_hat[i].mean('sample'))\n",
    "        hdi_data.append(np.quantile(y_hat[i], [0.03, 0.97], axis=1))\n",
    "\n",
    "    df_trend_list = []\n",
    "\n",
    "    for i in range(len(idata)):\n",
    "        df_trend_list.append(pd.DataFrame({'Date':dates['Date'],\n",
    "                        f'{data[i].Candidate.unique()[0]}_y_hat_mean':y_hat_mean[i],\n",
    "                        f'{data[i].Candidate.unique()[0]}_lower_bound':hdi_data[i][0],\n",
    "                        f'{data[i].Candidate.unique()[0]}_upper_bound':hdi_data[i][1]}))\n",
    "\n",
    "    df_concat = pd.concat(df_trend_list,axis=1)\n",
    "\n",
    "    df_concat = df_concat.loc[:,~df_concat.columns.duplicated()].copy()\n",
    "\n",
    "    df_concat.to_csv('trends.csv',index=False)\n",
    "\n",
    "    return"
   ]
  },
  {
   "cell_type": "code",
   "execution_count": null,
   "metadata": {},
   "outputs": [],
   "source": [
    "exp_csv(df_list,fit_list,model_list,df_resample)"
   ]
  },
  {
   "cell_type": "code",
   "execution_count": null,
   "metadata": {},
   "outputs": [],
   "source": [
    "for i in range(len(fit_list)):\n",
    "    plot_predictions(df_list[i], fit_list[i], model_list[i], knot_list[i], df_resample);"
   ]
  },
  {
   "cell_type": "code",
   "execution_count": null,
   "metadata": {},
   "outputs": [],
   "source": [
    "export_trend(df_list, fit_list, model_list, df_resample)"
   ]
  }
 ],
 "metadata": {
  "kernelspec": {
   "display_name": "base",
   "language": "python",
   "name": "python3"
  },
  "language_info": {
   "codemirror_mode": {
    "name": "ipython",
    "version": 3
   },
   "file_extension": ".py",
   "mimetype": "text/x-python",
   "name": "python",
   "nbconvert_exporter": "python",
   "pygments_lexer": "ipython3",
   "version": "3.9.12"
  },
  "orig_nbformat": 4
 },
 "nbformat": 4,
 "nbformat_minor": 2
}
